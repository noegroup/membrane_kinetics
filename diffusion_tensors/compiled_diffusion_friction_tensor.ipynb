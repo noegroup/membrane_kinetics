{
 "cells": [
  {
   "cell_type": "code",
   "execution_count": 1,
   "metadata": {},
   "outputs": [],
   "source": [
    "import numpy as np\n",
    "import scipy.special as ss\n",
    "import matplotlib as mpl\n",
    "import matplotlib.pyplot as plt\n",
    "import single_membrane_hydrodynamics as mh\n",
    "import parallel_membrane_hydrodynamics as pmh\n",
    "import vesicle_hydrodynamics as vh"
   ]
  },
  {
   "cell_type": "code",
   "execution_count": 2,
   "metadata": {},
   "outputs": [],
   "source": [
    "d = 10.0\n",
    "\n",
    "temperature = 298.0\n",
    "\n",
    "kT = 1.38064852e-2 * temperature\n",
    "\n",
    "viscosity = 0.890\n",
    "\n",
    "alpha_over_a = 0.1\n",
    "\n",
    "_level_of_tess_1 = 4\n",
    "_level_of_tess_2 = 5\n",
    "\n",
    "_plane_separation_1 = 5.0 * d\n",
    "_plane_separation_2 = 10.0 * d\n",
    "\n",
    "iter_max = 3\n",
    "#iter_max = 7\n",
    "\n",
    "_n_x = (iter_max + 1) * 2\n",
    "_n_y = np.round ((iter_max + 1) * 2.4).astype ('int')\n",
    "\n",
    "if (_n_y % 2 != 0):\n",
    "    _n_y += 1\n",
    "\n",
    "_n_quad_points = 72\n",
    "_n_bins = 100"
   ]
  },
  {
   "cell_type": "code",
   "execution_count": 3,
   "metadata": {},
   "outputs": [
    {
     "name": "stdout",
     "output_type": "stream",
     "text": [
      "Cut-off radius =  5.25037567904332\n"
     ]
    }
   ],
   "source": [
    "MemHydro = mh.MembraneHydro (_lattice_parameter = d,\n",
    "                             _lattice_n_x = _n_x, _lattice_n_y = _n_y,\n",
    "                             _temperature = temperature, _viscosity = viscosity,\n",
    "                             _alpha_over_a = alpha_over_a,\n",
    "                             _quadrature_area='circle', _n_quadrature_points = _n_quad_points)"
   ]
  },
  {
   "cell_type": "code",
   "execution_count": 4,
   "metadata": {},
   "outputs": [
    {
     "name": "stderr",
     "output_type": "stream",
     "text": [
      "  0% (2 of 500) |                        | Elapsed Time: 0:00:00 ETA:   0:00:30"
     ]
    },
    {
     "name": "stdout",
     "output_type": "stream",
     "text": [
      "Cut-off radius =  5.25037567904332\n",
      "preparing inverse Hankel transforms...\n"
     ]
    },
    {
     "name": "stderr",
     "output_type": "stream",
     "text": [
      "N/A% (0 of 500) |                        | Elapsed Time: 0:00:00 ETA:  --:--:--"
     ]
    },
    {
     "name": "stdout",
     "output_type": "stream",
     "text": [
      "preparing far field...\n",
      "Cut-off radius =  5.25037567904332\n",
      "preparing inverse Hankel transforms...\n"
     ]
    },
    {
     "name": "stderr",
     "output_type": "stream",
     "text": [
      "100% (500 of 500) |######################| Elapsed Time: 0:00:57 ETA:  00:00:00"
     ]
    },
    {
     "name": "stdout",
     "output_type": "stream",
     "text": [
      "preparing far field...\n"
     ]
    }
   ],
   "source": [
    "ParHydro1 = pmh.ParallelMembraneHydro (_lattice_parameter = d,\n",
    "                             _lattice_n_x = _n_x, _lattice_n_y = _n_y, _planes_separation = _plane_separation_1,\n",
    "                             _temperature = temperature, _viscosity = viscosity,\n",
    "                             _alpha_over_a = alpha_over_a,\n",
    "                             _quadrature_area='circle', _n_quadrature_points = _n_quad_points)\n",
    "\n",
    "ParHydro2 = pmh.ParallelMembraneHydro (_lattice_parameter = d,\n",
    "                             _lattice_n_x = _n_x, _lattice_n_y = _n_y, _planes_separation = _plane_separation_2,\n",
    "                             _temperature = temperature, _viscosity = viscosity,\n",
    "                             _alpha_over_a = alpha_over_a,\n",
    "                             _quadrature_area='circle', _n_quadrature_points = _n_quad_points)"
   ]
  },
  {
   "cell_type": "code",
   "execution_count": 4,
   "metadata": {},
   "outputs": [
    {
     "name": "stdout",
     "output_type": "stream",
     "text": [
      "Number of particles =  642\n",
      "Vesicle radius =  66.51627158643124\n",
      "Area per particle =  86.60254037844383\n",
      "Effective radius of each particle =  5.250375679043319\n",
      "Number of particles =  2562\n",
      "Vesicle radius =  132.8770404392079\n",
      "Area per particle =  86.60254037844385\n",
      "Effective radius of each particle =  5.250375679043319\n"
     ]
    }
   ],
   "source": [
    "VesHydro1 = vh.VesicleHydro (_lattice_parameter=d,\n",
    "                             _level_of_tess=_level_of_tess_1,\n",
    "                             _temperature=temperature, _viscosity=viscosity,\n",
    "                             _alpha_over_a=alpha_over_a,\n",
    "                             _quadrature_area='circle', _n_quadrature_points=_n_quad_points)\n",
    "\n",
    "VesHydro2 = vh.VesicleHydro (_lattice_parameter=d,\n",
    "                             _level_of_tess=_level_of_tess_2,\n",
    "                             _temperature=temperature, _viscosity=viscosity,\n",
    "                             _alpha_over_a=alpha_over_a,\n",
    "                             _quadrature_area='circle', _n_quadrature_points=_n_quad_points)"
   ]
  },
  {
   "cell_type": "code",
   "execution_count": null,
   "metadata": {},
   "outputs": [],
   "source": [
    "MemHydro.CalcFrictionTensor ()\n",
    "\n",
    "ParHydro1.calc_friction_tensor ()\n",
    "ParHydro2.calc_friction_tensor ()\n",
    "\n",
    "VesHydro1.calc_friction_tensor ()\n",
    "VesHydro2.calc_friction_tensor ()"
   ]
  },
  {
   "cell_type": "code",
   "execution_count": null,
   "metadata": {},
   "outputs": [],
   "source": [
    "MemHydro.CalcDiffusionTensorDirect ()\n",
    "\n",
    "ParHydro1.calc_diffusion_tensor_direct ()\n",
    "ParHydro2.calc_diffusion_tensor_direct ()\n",
    "\n",
    "VesHydro1.calc_diffusion_tensor_direct ()\n",
    "VesHydro2.calc_diffusion_tensor_direct ()"
   ]
  },
  {
   "cell_type": "code",
   "execution_count": null,
   "metadata": {},
   "outputs": [],
   "source": [
    "r_flat, zeta_hist_flat, zeta_min_flat, zeta_max_flat = MemHydro.GetHistograms (MemHydro.zeta, _n_bins)\n",
    "\n",
    "r_par10, zeta_hist_par10, zeta_min_par10, zeta_max_par10 = ParHydro1.get_histogram (ParHydro1.zeta_00, _n_bins)\n",
    "r_par11, zeta_hist_par11, zeta_min_par11, zeta_max_par11 = ParHydro1.get_histogram (ParHydro1.zeta_01, _n_bins)\n",
    "\n",
    "r_par20, zeta_hist_par20, zeta_min_par20, zeta_max_par20 = ParHydro2.get_histogram (ParHydro2.zeta_00, _n_bins)\n",
    "r_par21, zeta_hist_par21, zeta_min_par21, zeta_max_par21 = ParHydro2.get_histogram (ParHydro2.zeta_01, _n_bins)\n",
    "\n",
    "r_ves1, zeta_hist_ves1, zeta_min_ves1, zeta_max_ves1 = VesHydro1.get_histogram (VesHydro1.zeta, _n_bins)\n",
    "r_ves2, zeta_hist_ves2, zeta_min_ves2, zeta_max_ves2 = VesHydro2.get_histogram (VesHydro2.zeta, _n_bins)"
   ]
  },
  {
   "cell_type": "code",
   "execution_count": null,
   "metadata": {},
   "outputs": [],
   "source": [
    "r_flat, D_hist_flat, D_min_flat, D_max_flat = MemHydro.GetHistograms (MemHydro.D, _n_bins)\n",
    "\n",
    "r_par10, D_hist_par10, D_min_par10, D_max_par10 = ParHydro1.get_histogram (ParHydro1.D_00, _n_bins)\n",
    "r_par11, D_hist_par11, D_min_par11, D_max_par11 = ParHydro1.get_histogram (ParHydro1.D_01, _n_bins)\n",
    "\n",
    "r_par20, D_hist_par20, D_min_par20, D_max_par20 = ParHydro2.get_histogram (ParHydro2.D_00, _n_bins)\n",
    "r_par21, D_hist_par21, D_min_par21, D_max_par21 = ParHydro2.get_histogram (ParHydro2.D_01, _n_bins)\n",
    "\n",
    "r_ves1, D_hist_ves1, D_min_ves1, D_max_ves1 = VesHydro1.get_histogram (VesHydro1.D, _n_bins)\n",
    "r_ves2, D_hist_ves2, D_min_ves2, D_max_ves2 = VesHydro2.get_histogram (VesHydro2.D, _n_bins)"
   ]
  },
  {
   "cell_type": "code",
   "execution_count": null,
   "metadata": {},
   "outputs": [],
   "source": [
    "r_list = [r_flat,\n",
    "          r_par10, r_par11,\n",
    "          r_par20, r_par21,\n",
    "          r_ves1, r_ves2]\n",
    "\n",
    "zeta_hist_list = [zeta_hist_flat,\n",
    "                  zeta_hist_par10, zeta_hist_par11,\n",
    "                  zeta_hist_par20, zeta_hist_par21,\n",
    "                  zeta_hist_ves1, zeta_hist_ves2]\n",
    "\n",
    "D_hist_list = [D_hist_flat,\n",
    "               D_hist_par10, D_hist_par11,\n",
    "               D_hist_par20, D_hist_par21,\n",
    "               D_hist_ves1, D_hist_ves2]"
   ]
  },
  {
   "cell_type": "code",
   "execution_count": null,
   "metadata": {},
   "outputs": [],
   "source": [
    "r_c_list = np.array ([MemHydro.r_c])"
   ]
  },
  {
   "cell_type": "code",
   "execution_count": null,
   "metadata": {},
   "outputs": [],
   "source": [
    "Stokes_zeta = 6.0 * np.pi * viscosity * r_c_list\n",
    "Stokes_D = kT / (6.0 * np.pi * viscosity * r_c_list)\n",
    "\n",
    "r_oseen = np.linspace (0.5 * d, 10.0 * d, 1000) \n",
    "Oseen_D = kT / (8.0 * np.pi * viscosity * r_oseen)"
   ]
  },
  {
   "cell_type": "code",
   "execution_count": null,
   "metadata": {},
   "outputs": [],
   "source": [
    "label_list = [\"single planar membrane\",\n",
    "              \"$\\parallel$ membranes ($h = {:2.1f}\".format (ParHydro1.h / d) + \"a$) same\",\n",
    "              \"$\\parallel$ membranes ($h = {:2.1f}\".format (ParHydro1.h / d) + \"a$) cross\",\n",
    "              \"$\\parallel$ membranes ($h = {:2.1f}\".format (ParHydro2.h / d) + \"a$) same\",\n",
    "              \"$\\parallel$ membranes ($h = {:2.1f}\".format (ParHydro2.h / d) + \"a$) cross\",\n",
    "              \"spherical vesicle ($R = {:2.1f}\".format (VesHydro1.R / d) + \"a$)\",\n",
    "              \"spherical vesicle ($R = {:2.1f}\".format (VesHydro2.R / d) + \"a$)\"]"
   ]
  },
  {
   "cell_type": "code",
   "execution_count": null,
   "metadata": {},
   "outputs": [],
   "source": [
    "additional_label_list = [\"Stokes-Einstein diffusion\", \"Oseen tensor\"]\n",
    "\n",
    "additional_line_style = [\"--\", \"-.\", \":\"]"
   ]
  },
  {
   "cell_type": "code",
   "execution_count": null,
   "metadata": {},
   "outputs": [],
   "source": [
    "color_list = ['xkcd:steel blue', 'xkcd:orange red', 'xkcd:orange red', 'xkcd:gray green', 'xkcd:gray green', 'xkcd:burgundy', 'xkcd:burnt sienna']\n",
    "\n",
    "line_style_list = ['--', '--', '-.', '--', '-.', '--', '--']\n",
    "marker_list = ['s', 'P', 'X', 'P', 'X', 'o', 'o']\n",
    "\n",
    "color_gray = 'xkcd:gray'\n",
    "\n",
    "label_font_size = 24\n",
    "legend_font_size = 18\n",
    "\n",
    "line_width = 3"
   ]
  },
  {
   "cell_type": "code",
   "execution_count": null,
   "metadata": {},
   "outputs": [],
   "source": [
    "fac = 1.0 / (viscosity * d)\n",
    "\n",
    "plt.figure (figsize = (5, 5))\n",
    "\n",
    "ax = plt.axes()\n",
    "\n",
    "#plt.plot ([-0.5, 10.2], [Stokes_zeta[0] * fac, Stokes_zeta[0] * fac], color = color_gray,\n",
    "#          linewidth = line_width, alpha = 0.95,\n",
    "#          linestyle=additional_line_style[0], label = additional_label_list[0])\n",
    "    \n",
    "for i in range(len(r_list)):\n",
    "\n",
    "    plt.plot (r_list[i] / d, zeta_hist_list[i] * fac, color = color_list[i],\n",
    "              markersize = 15, marker = marker_list[i], markerfacecolor='white',\n",
    "              linewidth = line_width, markeredgewidth = line_width, alpha = 0.8, linestyle=line_style_list[i], label = label_list[i])\n",
    "\n",
    "plt.legend (fontsize = legend_font_size)\n",
    "plt.title(r\"$\\alpha = \" + str(alpha_over_a) + \"\\, a$\", fontsize = 42, pad=20)\n",
    "\n",
    "plt.xlabel (r\"$\\frac{r_{ij}}{a}$\", fontsize = label_font_size, labelpad = 30)\n",
    "plt.ylabel (r\"$\\left(\\frac{1}{\\eta a}\\right)\\,\\zeta^{\\perp}_{ij}$\", fontsize = label_font_size, labelpad = 0)\n",
    "\n",
    "plt.xlim ([-0.5, 7.2])"
   ]
  },
  {
   "cell_type": "code",
   "execution_count": null,
   "metadata": {},
   "outputs": [],
   "source": [
    "fac =  viscosity * d / kT\n",
    "\n",
    "plt.figure (figsize = (5, 5))\n",
    "\n",
    "ax = plt.axes()\n",
    "\n",
    "for i in range(len(r_list)):\n",
    "\n",
    "    plt.plot (r_list[i] / d, D_hist_list[i] * fac, color = color_list[i],\n",
    "              markersize = 15, marker = marker_list[i], markerfacecolor='white',\n",
    "              linewidth = line_width, markeredgewidth = line_width, alpha = 0.8, linestyle=line_style_list[i], label = label_list[i])\n",
    "\n",
    "plt.plot ([-0.2, 0.2], [Stokes_D[0] * fac, Stokes_D[0] * fac], color = color_gray,\n",
    "          linewidth = line_width * 2.5, alpha = 0.95, marker = \"+\", markersize=15, markeredgewidth=line_width * 1.5,\n",
    "          linestyle='-', label = additional_label_list[0])\n",
    "\n",
    "plt.plot (r_oseen / d, Oseen_D * fac, color = color_gray,\n",
    "          linewidth = line_width * 2.5, alpha = 0.95,\n",
    "          linestyle=additional_line_style[1], label = additional_label_list[1])\n",
    "\n",
    "plt.title(r\"$\\alpha = \" + str(alpha_over_a) + \"\\, a$\", fontsize = 42, pad=20)\n",
    "\n",
    "plt.legend (fontsize = legend_font_size, loc = 1)\n",
    "\n",
    "plt.xlabel (r\"$\\frac{r_{ij}}{a}$\", fontsize = label_font_size, labelpad = 20)\n",
    "plt.ylabel (r\"$\\left(\\frac{\\eta a}{kT}\\right)\\,D^{\\perp}_{ij}$\", fontsize = label_font_size, labelpad = 0)\n",
    "\n",
    "plt.xlim ([-0.5, 10.2])\n",
    "plt.ylim ([-0.02, 0.52])"
   ]
  },
  {
   "cell_type": "code",
   "execution_count": null,
   "metadata": {},
   "outputs": [],
   "source": []
  },
  {
   "cell_type": "code",
   "execution_count": null,
   "metadata": {},
   "outputs": [],
   "source": []
  }
 ],
 "metadata": {
  "kernelspec": {
   "display_name": "Python 3",
   "language": "python",
   "name": "python3"
  },
  "language_info": {
   "codemirror_mode": {
    "name": "ipython",
    "version": 3
   },
   "file_extension": ".py",
   "mimetype": "text/x-python",
   "name": "python",
   "nbconvert_exporter": "python",
   "pygments_lexer": "ipython3",
   "version": "3.8.2"
  }
 },
 "nbformat": 4,
 "nbformat_minor": 2
}
